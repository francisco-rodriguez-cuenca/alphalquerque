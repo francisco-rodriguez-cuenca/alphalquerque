{
 "cells": [
  {
   "cell_type": "code",
   "execution_count": 1,
   "metadata": {},
   "outputs": [],
   "source": [
    "import numpy as np\n",
    "import math"
   ]
  },
  {
   "cell_type": "code",
   "execution_count": 2,
   "metadata": {},
   "outputs": [],
   "source": [
    "def legal_move(position, board):\n",
    "    \"Returns if a move is legal\"\n",
    "    return np.all((position >= 0) & (position <= 4)) and board[tuple(position)] == \"\""
   ]
  },
  {
   "cell_type": "code",
   "execution_count": 3,
   "metadata": {},
   "outputs": [],
   "source": [
    "def get_legal_moves(piece, board):\n",
    "    \"\"\"\n",
    "    Return posible next positions based on the type of piece, its position on the board, and the board itself\n",
    "    ---\n",
    "    Returns a numpy array of posible moves\n",
    "    \"\"\"\n",
    "\n",
    "    pos = position(piece, board)\n",
    "\n",
    "    if (pos[0] + pos[1]) % 2 == 0:\n",
    "        movement_set = np.array(\n",
    "            [\n",
    "                (-1,-1), (0,-1), (1,-1),\n",
    "                (-1, 0),         (1, 0), \n",
    "                (-1, 1), (0, 1), (1, 1)\n",
    "            ]\n",
    "        )\n",
    "    else:\n",
    "        movement_set = np.array(\n",
    "            [\n",
    "                        (0,-1),\n",
    "                (-1, 0),         (1, 0), \n",
    "                        (0, 1),\n",
    "            ]\n",
    "        )\n",
    "\n",
    "    get_legal_moves = np.array([m+pos for m in movement_set if legal_move(m+pos, board)])\n",
    "\n",
    "    if piece[0] == \"0\":\n",
    "\n",
    "        jump_movement = np.array([m*2 + pos for m in movement_set if legal_move(m*2 + pos, board) and board[tuple(m + pos)] == \"X\"])\n",
    "\n",
    "        if piece[1] == 0:\n",
    "\n",
    "            c_array = np.array([a for a in [get_legal_moves, jump_movement] if a.size != 0])\n",
    "            if c_array.size != 0:\n",
    "                get_legal_moves = np.concatenate(c_array)\n",
    "\n",
    "        else:\n",
    "\n",
    "            get_legal_moves = jump_movement\n",
    "\n",
    "\n",
    "    return pos, get_legal_moves\n",
    "\n",
    "def result(piece, board):\n",
    "\n",
    "    \"\"\" Returns who wins (if any)\"\"\"\n",
    "\n",
    "    if piece[0] == \"0\" and get_legal_moves(piece, board)[1].size == 0: #If the hare can't move\n",
    "        res = \"Hare loses\"\n",
    "    elif np.count_nonzero(board == \"X\") <= 9:\n",
    "        res = \"Hare wins\"\n",
    "    else:\n",
    "        res = \"Not yet\"\n",
    "\n",
    "    return res\n",
    "\n",
    "def position(piece, board):\n",
    "    \"Returns the position of a piece on the board as a tuple\"\n",
    "\n",
    "    if piece[0] == \"0\":\n",
    "        pos = tuple(np.argwhere(board == \"0\")[0])\n",
    "    else:\n",
    "        pos = tuple(np.argwhere(board == \"X\")[piece[1]])\n",
    "\n",
    "    return pos\n"
   ]
  },
  {
   "cell_type": "code",
   "execution_count": 4,
   "metadata": {},
   "outputs": [],
   "source": [
    "def is_win(piece, board):\n",
    "\n",
    "    \"\"\" Returns who wins (if any)\"\"\"\n",
    "\n",
    "    if piece[0] == \"0\":\n",
    "        if np.count_nonzero(board == \"X\") <= 9:\n",
    "            return True\n",
    "        else:\n",
    "            return False\n",
    "    else:\n",
    "        if get_legal_moves((True,0), board)[1].size == 0:\n",
    "            return True\n",
    "        else:\n",
    "            return False"
   ]
  },
  {
   "cell_type": "code",
   "execution_count": 5,
   "metadata": {},
   "outputs": [
    {
     "name": "stdout",
     "output_type": "stream",
     "text": [
      "Is win? -> False\n",
      "Piece in position (0, 4) can move to [[0 3]\n",
      " [1 4]]\n"
     ]
    }
   ],
   "source": [
    "board = np.array([\n",
    "    ['' , '' , '' , '' , 'X'],\n",
    "    ['X', 'X', 'X', 'X', '' ],\n",
    "    ['' , 'X', 'X', '' , 'X'],\n",
    "    ['' , '' , '' , 'X', 'X' ],\n",
    "    ['' , '' , '' , 'X', '0']\n",
    "    ])\n",
    "piece = (\"X\", 0) \n",
    "\n",
    "# \"X\" if hunters, \"0\" if hare\n",
    "# The second number indicates the number of consecutive moves by a hare or the index of the hunter, \n",
    "\n",
    "\n",
    "pos, movements = get_legal_moves(piece, board)\n",
    "\n",
    "print(f\"Is win? -> {is_win(piece, board)}\")\n",
    "print(f\"Piece in position {pos} can move to {movements}\")"
   ]
  },
  {
   "cell_type": "code",
   "execution_count": 6,
   "metadata": {},
   "outputs": [],
   "source": [
    "def execute_move(board, move, piece):\n",
    "\n",
    "    \"\"\"\n",
    "    Updates the board with a move\n",
    "    \"\"\"\n",
    "\n",
    "    start, end = move\n",
    "\n",
    "    if piece[0] == \"0\":\n",
    "        \n",
    "        diff = np.array(end)-np.array(start)\n",
    "\n",
    "        if 2 in np.abs(diff): # Salto\n",
    "\n",
    "            pos_cazador = np.array(start) + (diff/2).astype(int)\n",
    "\n",
    "\n",
    "            board[tuple(start)] = \"\"\n",
    "            board[tuple(pos_cazador)] = \"\"\n",
    "            board[tuple(end)] = \"0\"\n",
    "\n",
    "        else:\n",
    "\n",
    "            board[tuple(start)] = \"\"\n",
    "            board[tuple(end)] = \"0\"\n",
    "\n",
    "    else:\n",
    "        board[tuple(start)] = \"\"\n",
    "        board[tuple(end)] = \"X\"\n",
    "\n",
    "    return board\n",
    "    \n",
    "    "
   ]
  },
  {
   "cell_type": "code",
   "execution_count": 7,
   "metadata": {},
   "outputs": [
    {
     "name": "stdout",
     "output_type": "stream",
     "text": [
      "Is win? -> True\n",
      "Piece in position (4, 4) can move to [[3 3]\n",
      " [3 4]\n",
      " [4 2]]\n"
     ]
    },
    {
     "name": "stderr",
     "output_type": "stream",
     "text": [
      "/home/fran/.local/lib/python3.7/site-packages/ipykernel_launcher.py:35: VisibleDeprecationWarning: Creating an ndarray from ragged nested sequences (which is a list-or-tuple of lists-or-tuples-or ndarrays with different lengths or shapes) is deprecated. If you meant to do this, you must specify 'dtype=object' when creating the ndarray\n"
     ]
    },
    {
     "data": {
      "text/plain": [
       "array([['', '', '', '', 'X'],\n",
       "       ['X', 'X', 'X', 'X', ''],\n",
       "       ['', 'X', 'X', '', ''],\n",
       "       ['', '', '', '', ''],\n",
       "       ['', '', '0', '', '']], dtype='<U1')"
      ]
     },
     "execution_count": 7,
     "metadata": {},
     "output_type": "execute_result"
    }
   ],
   "source": [
    "board = np.array([\n",
    "    ['' , '' , '' , '' , 'X'],\n",
    "    ['X', 'X', 'X', 'X', '' ],\n",
    "    ['' , 'X', 'X', '' , ''],\n",
    "    ['' , '' , '' , '', '' ],\n",
    "    ['' , '' , '' , 'X', '0']\n",
    "])\n",
    "piece = (\"0\", 0) \n",
    "\n",
    "# The first number indicates True if hare, False if hunters\n",
    "# The second number indicates the number of consecutive moves by a hare or the index of the hunter, \n",
    "\n",
    "\n",
    "pos, movements = get_legal_moves(piece, board)\n",
    "\n",
    "print(f\"Is win? -> {is_win(piece, board)}\")\n",
    "print(f\"Piece in position {pos} can move to {movements}\")\n",
    "\n",
    "\n",
    "move = [[4, 4], [4, 2] ] # [start, end]\n",
    "\n",
    "execute_move(board, move, piece)"
   ]
  },
  {
   "cell_type": "code",
   "execution_count": 8,
   "metadata": {},
   "outputs": [
    {
     "data": {
      "text/plain": [
       "[0, 0, 1]"
      ]
     },
     "execution_count": 8,
     "metadata": {},
     "output_type": "execute_result"
    }
   ],
   "source": [
    "[0]*(3-1)+[1]"
   ]
  },
  {
   "cell_type": "code",
   "execution_count": 9,
   "metadata": {},
   "outputs": [
    {
     "data": {
      "text/plain": [
       "1.5"
      ]
     },
     "execution_count": 9,
     "metadata": {},
     "output_type": "execute_result"
    }
   ],
   "source": [
    "3/2"
   ]
  },
  {
   "cell_type": "code",
   "execution_count": 12,
   "metadata": {},
   "outputs": [
    {
     "data": {
      "text/plain": [
       "['']"
      ]
     },
     "execution_count": 12,
     "metadata": {},
     "output_type": "execute_result"
    }
   ],
   "source": [
    "np.array([\"\"]).tolist()"
   ]
  },
  {
   "cell_type": "code",
   "execution_count": 2,
   "metadata": {},
   "outputs": [
    {
     "data": {
      "text/plain": [
       "[2]"
      ]
     },
     "execution_count": 2,
     "metadata": {},
     "output_type": "execute_result"
    }
   ],
   "source": [
    "[abs(-2)]"
   ]
  },
  {
   "cell_type": "code",
   "execution_count": 16,
   "metadata": {},
   "outputs": [
    {
     "name": "stdout",
     "output_type": "stream",
     "text": [
      "[[[[0 1]\n",
      "   [0 0]]\n",
      "\n",
      "  [[0 0]\n",
      "   [0 0]]]\n",
      "\n",
      "\n",
      " [[[0 0]\n",
      "   [0 0]]\n",
      "\n",
      "  [[0 0]\n",
      "   [0 0]]]]\n"
     ]
    }
   ],
   "source": [
    "toy = np.array([[[[0,1],[0,0]],[[0,0],[0,0]]],[[[0,0],[0,0]],[[0,0],[0,0]]]])\n",
    "print(toy)"
   ]
  },
  {
   "cell_type": "code",
   "execution_count": 9,
   "metadata": {},
   "outputs": [
    {
     "data": {
      "text/plain": [
       "array([0, 1, 1, 0, 0, 2, 2, 0, 0, 3, 3, 0, 0, 4, 4, 0])"
      ]
     },
     "execution_count": 9,
     "metadata": {},
     "output_type": "execute_result"
    }
   ],
   "source": [
    "ravel = toy.ravel()\n",
    "ravel"
   ]
  },
  {
   "cell_type": "code",
   "execution_count": 10,
   "metadata": {},
   "outputs": [
    {
     "data": {
      "text/plain": [
       "array([[[[0, 1],\n",
       "         [1, 0]],\n",
       "\n",
       "        [[0, 2],\n",
       "         [2, 0]]],\n",
       "\n",
       "\n",
       "       [[[0, 3],\n",
       "         [3, 0]],\n",
       "\n",
       "        [[0, 4],\n",
       "         [4, 0]]]])"
      ]
     },
     "execution_count": 10,
     "metadata": {},
     "output_type": "execute_result"
    }
   ],
   "source": [
    "np.reshape(ravel, (2,2,2,2))"
   ]
  },
  {
   "cell_type": "code",
   "execution_count": 6,
   "metadata": {},
   "outputs": [
    {
     "data": {
      "text/plain": [
       "array([[[[0, 4],\n",
       "         [4, 0]],\n",
       "\n",
       "        [[0, 3],\n",
       "         [3, 0]]],\n",
       "\n",
       "\n",
       "       [[[0, 2],\n",
       "         [2, 0]],\n",
       "\n",
       "        [[0, 1],\n",
       "         [1, 0]]]])"
      ]
     },
     "execution_count": 6,
     "metadata": {},
     "output_type": "execute_result"
    }
   ],
   "source": [
    "np.rot90(toy, k = 2)"
   ]
  },
  {
   "cell_type": "code",
   "execution_count": 17,
   "metadata": {},
   "outputs": [
    {
     "data": {
      "text/plain": [
       "array([[[[0, 0],\n",
       "         [0, 0]],\n",
       "\n",
       "        [[0, 0],\n",
       "         [0, 0]]],\n",
       "\n",
       "\n",
       "       [[[1, 0],\n",
       "         [0, 0]],\n",
       "\n",
       "        [[0, 0],\n",
       "         [0, 0]]]])"
      ]
     },
     "execution_count": 17,
     "metadata": {},
     "output_type": "execute_result"
    }
   ],
   "source": [
    "np.rot90(np.array([[np.rot90(y_0).tolist() for y_0 in x_0] for x_0 in toy]))"
   ]
  },
  {
   "cell_type": "code",
   "execution_count": 11,
   "metadata": {},
   "outputs": [
    {
     "data": {
      "text/plain": [
       "array([[[[2, 0],\n",
       "         [0, 2]],\n",
       "\n",
       "        [[1, 0],\n",
       "         [0, 1]]],\n",
       "\n",
       "\n",
       "       [[[4, 0],\n",
       "         [0, 4]],\n",
       "\n",
       "        [[3, 0],\n",
       "         [0, 3]]]])"
      ]
     },
     "execution_count": 11,
     "metadata": {},
     "output_type": "execute_result"
    }
   ],
   "source": [
    "np.fliplr(np.array([[np.fliplr(y_0).tolist() for y_0 in x_0] for x_0 in toy]))"
   ]
  },
  {
   "cell_type": "code",
   "execution_count": 12,
   "metadata": {},
   "outputs": [
    {
     "data": {
      "text/plain": [
       "array([[2, 1],\n",
       "       [4, 3]])"
      ]
     },
     "execution_count": 12,
     "metadata": {},
     "output_type": "execute_result"
    }
   ],
   "source": [
    "np.fliplr(np.array([[1,2],[3,4] ]))"
   ]
  },
  {
   "cell_type": "code",
   "execution_count": 15,
   "metadata": {},
   "outputs": [
    {
     "data": {
      "text/plain": [
       "array([[[[0, 0],\n",
       "         [0, 0]],\n",
       "\n",
       "        [[0, 0],\n",
       "         [0, 1]]],\n",
       "\n",
       "\n",
       "       [[[0, 0],\n",
       "         [0, 0]],\n",
       "\n",
       "        [[0, 0],\n",
       "         [0, 0]]]])"
      ]
     },
     "execution_count": 15,
     "metadata": {},
     "output_type": "execute_result"
    }
   ],
   "source": [
    "np.reshape(np.array([0,0,0,0,0,0,0,1,0,0,0,0,0,0,0,0]), (2,2,2,2))"
   ]
  },
  {
   "cell_type": "code",
   "execution_count": null,
   "metadata": {},
   "outputs": [],
   "source": []
  }
 ],
 "metadata": {
  "kernelspec": {
   "display_name": "Python 3.7.10",
   "language": "python",
   "name": "python3"
  },
  "language_info": {
   "codemirror_mode": {
    "name": "ipython",
    "version": 3
   },
   "file_extension": ".py",
   "mimetype": "text/x-python",
   "name": "python",
   "nbconvert_exporter": "python",
   "pygments_lexer": "ipython3",
   "version": "3.7.10"
  },
  "orig_nbformat": 4,
  "vscode": {
   "interpreter": {
    "hash": "ba93574b074e1ce8237de42bc6c1e6382943f1d36bd95fc421693574d3b6f29c"
   }
  }
 },
 "nbformat": 4,
 "nbformat_minor": 2
}
